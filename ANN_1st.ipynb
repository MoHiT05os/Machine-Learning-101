{
  "nbformat": 4,
  "nbformat_minor": 0,
  "metadata": {
    "colab": {
      "provenance": []
    },
    "kernelspec": {
      "name": "python3",
      "display_name": "Python 3"
    },
    "language_info": {
      "name": "python"
    }
  },
  "cells": [
    {
      "cell_type": "code",
      "execution_count": 1,
      "metadata": {
        "id": "7MM9woWddbX6"
      },
      "outputs": [],
      "source": [
        "import numpy as np\n",
        "\n",
        "def sigmoid(x):\n",
        "    return 1 / (1 + np.exp(-x))\n",
        "\n",
        "def sigmoid_derivative(x):\n",
        "    return sigmoid(x) * (1 - sigmoid(x))\n",
        "\n",
        "def relu(x):\n",
        "    return np.maximum(0, x)\n",
        "\n",
        "def relu_derivative(x):\n",
        "    return (x > 0).astype(float)\n"
      ]
    },
    {
      "cell_type": "code",
      "source": [
        "\n",
        "np.random.seed(42)\n",
        "\n",
        "X = np.array([[1, 2]])\n",
        "\n",
        "y = np.array([[1]])\n",
        "\n",
        "W1 = np.random.randn(2, 2)\n",
        "b1 = np.zeros((1, 2))\n",
        "\n",
        "W2 = np.random.randn(2, 1)\n",
        "b2 = np.zeros((1, 1))\n"
      ],
      "metadata": {
        "id": "VqITPuqtdwvC"
      },
      "execution_count": 2,
      "outputs": []
    },
    {
      "cell_type": "code",
      "source": [
        "def forward(X, W1, b1, W2, b2):\n",
        "    z1 = np.dot(X, W1) + b1\n",
        "    a1 = relu(z1)\n",
        "\n",
        "    z2 = np.dot(a1, W2) + b2\n",
        "    a2 = sigmoid(z2)\n",
        "\n",
        "    return z1, a1, z2, a2\n"
      ],
      "metadata": {
        "id": "-aPC41qdeKtf"
      },
      "execution_count": 3,
      "outputs": []
    },
    {
      "cell_type": "code",
      "source": [
        "\n",
        "learning_rate = 0.1\n",
        "epochs = 1000\n",
        "\n",
        "for epoch in range(epochs):\n",
        "\n",
        "    z1 = np.dot(X, W1) + b1\n",
        "    a1 = relu(z1)\n",
        "\n",
        "    z2 = np.dot(a1, W2) + b2\n",
        "    a2 = sigmoid(z2)\n",
        "\n",
        "    loss = np.square(y - a2).mean()\n",
        "\n",
        "    d_a2 = -(y - a2)                # dL/da2\n",
        "    d_z2 = d_a2 * sigmoid_derivative(z2)  # dL/dz2\n",
        "    d_W2 = np.dot(a1.T, d_z2)       # dL/dW2\n",
        "    d_b2 = d_z2\n",
        "\n",
        "    d_a1 = np.dot(d_z2, W2.T)       # dL/da1\n",
        "    d_z1 = d_a1 * relu_derivative(z1)     # dL/dz1\n",
        "    d_W1 = np.dot(X.T, d_z1)        # dL/dW1\n",
        "    d_b1 = d_z1\n",
        "\n",
        "    W2 -= learning_rate * d_W2\n",
        "    b2 -= learning_rate * d_b2\n",
        "    W1 -= learning_rate * d_W1\n",
        "    b1 -= learning_rate * d_b1\n",
        "\n",
        "\n",
        "    if epoch % 100 == 0:\n",
        "        print(f\"Epoch {epoch}, Loss: {loss:.4f}\")\n"
      ],
      "metadata": {
        "colab": {
          "base_uri": "https://localhost:8080/"
        },
        "id": "pv8xeoRxedXo",
        "outputId": "702dc834-0311-483a-f49b-c9e7b9a1aee8"
      },
      "execution_count": 13,
      "outputs": [
        {
          "output_type": "stream",
          "name": "stdout",
          "text": [
            "Epoch 0, Loss: 0.0001\n",
            "Epoch 100, Loss: 0.0001\n",
            "Epoch 200, Loss: 0.0001\n",
            "Epoch 300, Loss: 0.0001\n",
            "Epoch 400, Loss: 0.0000\n",
            "Epoch 500, Loss: 0.0000\n",
            "Epoch 600, Loss: 0.0000\n",
            "Epoch 700, Loss: 0.0000\n",
            "Epoch 800, Loss: 0.0000\n",
            "Epoch 900, Loss: 0.0000\n"
          ]
        }
      ]
    },
    {
      "cell_type": "code",
      "source": [
        "\n",
        "_, _, _, final_output = forward(X, W1, b1, W2, b2)\n",
        "print(\"Final prediction:\", final_output)\n",
        "print(\"--------------------------------\")\n",
        "print(\"Final weights and biases:\")\n",
        "print(\"W1:\", W1)\n",
        "print(\"b1:\", b1)\n",
        "print(\"W2:\", W2)\n",
        "print(\"b2:\", b2)\n"
      ],
      "metadata": {
        "colab": {
          "base_uri": "https://localhost:8080/"
        },
        "id": "fHeWuU5TezaA",
        "outputId": "21dd3329-3784-4a80-a7a3-8ee10b458d9d"
      },
      "execution_count": 14,
      "outputs": [
        {
          "output_type": "stream",
          "name": "stdout",
          "text": [
            "Final prediction: [[0.99342709]]\n",
            "--------------------------------\n",
            "Final weights and biases:\n",
            "W1: [[ 0.53867098 -0.00324481]\n",
            " [ 0.73160219  1.79306883]]\n",
            "b1: [[0.04195683 0.13501949]]\n",
            "W2: [[0.47151373]\n",
            " [0.9838174 ]]\n",
            "b2: [[0.39676242]]\n"
          ]
        }
      ]
    }
  ]
}